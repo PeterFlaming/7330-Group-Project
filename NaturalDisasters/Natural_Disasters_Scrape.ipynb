{
 "cells": [
  {
   "cell_type": "code",
   "execution_count": 1,
   "metadata": {},
   "outputs": [],
   "source": [
    "# Imports of the respective libraries\n",
    "import requests\n",
    "import pandas as pd\n",
    "from bs4 import BeautifulSoup\n",
    "\n",
    "# Convert HTML table to a list of lists for each row\n",
    "# so as to easily load the same pandas dataframe.\n",
    "\n",
    "def generate_raw_table(html_table):\n",
    "    table = []    \n",
    "    year, disaster_type, death_toll, damage_cost, disaster_name, notes = None, None, None, None, None, None\n",
    "    # find all rows from the table\n",
    "    for row in html_table.find_all('tr'):\n",
    "        r=[]        \n",
    "        # find all columns from the row\n",
    "        for col in row.find_all('td'):\n",
    "            \n",
    "            # remove extra spaces from cell value\n",
    "            cell = col.text.strip()\n",
    "            \n",
    "            # if the text is of 4 chars, store it as year if it's an integer \n",
    "            if len(cell) == 4:  \n",
    "                try:\n",
    "                    # distinguish between 1901 and July\n",
    "                    year = int(cell)\n",
    "                except:\n",
    "                    pass\n",
    "            # HTML date column has values like July 21, May–June, Mid-October\n",
    "            # so split and convert the same in correct format\n",
    "            elif 4 < len(cell) < 13:                \n",
    "                if cell.startswith('Mid'):\n",
    "                    date = cell.split('-')[1] + ' 15'\n",
    "                else:\n",
    "                    date = cell.split('–')[0]\n",
    "            \n",
    "            # to pick up the description (Event Col)\n",
    "            elif len(cell) > 13:                \n",
    "                # To remove text like [12][33][87] from the end.\n",
    "                event = '.'.join(s for s in cell.split('.')[:-1])                \n",
    "            else:\n",
    "                continue\n",
    "                \n",
    "        # if we have got all the values then convert it into a list of 2 values\n",
    "        if all([year, disaster_type, death_toll, damage_cost, disaster_name, notes]):\n",
    "            event_date = str(year) + disaster_type + death_toll + damage_cost + disaster_name + notes\n",
    "            r.append([event_date, event])\n",
    "            \n",
    "        # extend parent table list with above rows. \n",
    "        if r:\n",
    "            table.extend(r)\n",
    "    return table\n",
    "\n"
   ]
  },
  {
   "cell_type": "code",
   "execution_count": 16,
   "metadata": {},
   "outputs": [],
   "source": [
    "# Create dataframe with Event Date and Event as 6 coloumns\n",
    "def create_dataframe_from_raw_table(raw_table):\n",
    "    df = pd.DataFrame(raw_table, columns=['Year', 'Disaster Type', 'Death Toll', 'Damage Cost', 'Disaster Name', 'Notes'])    \n",
    "    return df\n",
    "\n",
    "    "
   ]
  },
  {
   "cell_type": "code",
   "execution_count": 3,
   "metadata": {},
   "outputs": [],
   "source": [
    "# Combine the dataframes at year\n",
    "# and convert datetime 'string' to 'datetime' type\n",
    "def combine_dataframes(df0, df1):\n",
    "    df = df0.append(df1, ignore_index=True)    \n",
    "    df['Year'] = pd.to_datetime(df['Year'])\n",
    "    return df\n",
    "\n"
   ]
  },
  {
   "cell_type": "code",
   "execution_count": null,
   "metadata": {},
   "outputs": [],
   "source": [
    "# main():  the first function and it holds the flow of the script.\n",
    "#def main():\n",
    "url = 'https://en.wikipedia.org/wiki/List_of_natural_disasters_in_the_United_States'\n",
    "\n",
    "# To get the (HTML) text of the static webpage.\n",
    "res = requests.get(url).text\n",
    "soup = BeautifulSoup(res,'lxml')\n",
    "    \n",
    "# Get all tables from the HTML text\n",
    "html_table = soup.find_all('table',{'class':'wikitable'})\n",
    "    \n",
    "# Return dataframe\n",
    "return html_table\n",
    "\n",
    "html_table"
   ]
  },
  {
   "cell_type": "code",
   "execution_count": 19,
   "metadata": {},
   "outputs": [
    {
     "ename": "NameError",
     "evalue": "name 'html_table' is not defined",
     "output_type": "error",
     "traceback": [
      "\u001b[0;31m---------------------------------------------------------------------------\u001b[0m",
      "\u001b[0;31mNameError\u001b[0m                                 Traceback (most recent call last)",
      "\u001b[0;32m<ipython-input-19-e40c9a000db3>\u001b[0m in \u001b[0;36m<module>\u001b[0;34m()\u001b[0m\n\u001b[1;32m      1\u001b[0m \u001b[0;31m# Dataframe for Natural Disasters.\u001b[0m\u001b[0;34m\u001b[0m\u001b[0;34m\u001b[0m\u001b[0m\n\u001b[0;32m----> 2\u001b[0;31m \u001b[0mdf\u001b[0m \u001b[0;34m=\u001b[0m \u001b[0mpd\u001b[0m\u001b[0;34m.\u001b[0m\u001b[0mDataFrame\u001b[0m\u001b[0;34m(\u001b[0m\u001b[0mhtml_table\u001b[0m\u001b[0;34m[\u001b[0m\u001b[0;34m:\u001b[0m\u001b[0;34m]\u001b[0m\u001b[0;34m)\u001b[0m\u001b[0;34m\u001b[0m\u001b[0m\n\u001b[0m\u001b[1;32m      3\u001b[0m \u001b[0;34m\u001b[0m\u001b[0m\n\u001b[1;32m      4\u001b[0m \u001b[0mdf\u001b[0m\u001b[0;34m.\u001b[0m\u001b[0mtail\u001b[0m\u001b[0;34m(\u001b[0m\u001b[0;36m10\u001b[0m\u001b[0;34m)\u001b[0m\u001b[0;34m\u001b[0m\u001b[0m\n",
      "\u001b[0;31mNameError\u001b[0m: name 'html_table' is not defined"
     ]
    }
   ],
   "source": [
    "# Dataframe for Natural Disasters.\n",
    "df = pd.DataFrame(html_table[:])\n",
    "\n",
    "df.tail(10)"
   ]
  },
  {
   "cell_type": "code",
   "execution_count": null,
   "metadata": {},
   "outputs": [],
   "source": []
  }
 ],
 "metadata": {
  "kernelspec": {
   "display_name": "Python 3",
   "language": "python",
   "name": "python3"
  },
  "language_info": {
   "codemirror_mode": {
    "name": "ipython",
    "version": 3
   },
   "file_extension": ".py",
   "mimetype": "text/x-python",
   "name": "python",
   "nbconvert_exporter": "python",
   "pygments_lexer": "ipython3",
   "version": "3.6.5"
  }
 },
 "nbformat": 4,
 "nbformat_minor": 2
}
